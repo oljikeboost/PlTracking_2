{
 "cells": [
  {
   "cell_type": "code",
   "execution_count": 2,
   "metadata": {},
   "outputs": [],
   "source": [
    "import cython_util\n",
    "import numpy as np\n",
    "\n",
    "\n",
    "all_results = [[np.array([[10,20,30,40,0.6]])]]\n",
    "inp_data = [np.ones((512,512,3))]\n",
    "offset = 2\n",
    "output = cython_util.crop_images(all_results, inp_data, offset)\n"
   ]
  },
  {
   "cell_type": "code",
   "execution_count": 3,
   "metadata": {},
   "outputs": [
    {
     "name": "stdout",
     "output_type": "stream",
     "text": [
      "4.72 µs ± 11.7 ns per loop (mean ± std. dev. of 7 runs, 100000 loops each)\n"
     ]
    }
   ],
   "source": [
    "%timeit cython_util.crop_images(all_results, inp_data, offset)"
   ]
  },
  {
   "cell_type": "code",
   "execution_count": 4,
   "metadata": {
    "code_folding": [
     0
    ]
   },
   "outputs": [],
   "source": [
    "def crop_images(all_results, inp_data, offset):\n",
    "\n",
    "\n",
    "    output = []\n",
    "    for idx, result in enumerate(all_results):\n",
    "\n",
    "        length = len(result[0])\n",
    "        if length == 0:\n",
    "            continue\n",
    "\n",
    "        img = inp_data[idx]\n",
    "\n",
    "        max_res = max(result[0], key=lambda x: x[-1])\n",
    "        max_prob = max_res[-1]\n",
    "        if max_prob < 0.6:\n",
    "            continue\n",
    "\n",
    "        # max_res = max_res.astype(np.int)\n",
    "        x1 = int(max_res[0])\n",
    "        x2 = int(max_res[2])\n",
    "        y1 = int(max_res[1])\n",
    "        y2 = int(max_res[3])\n",
    "\n",
    "        jersey_crop = img[y1 - offset: y2 + offset,\n",
    "                      x1 - offset: x2 + offset, :]\n",
    "\n",
    "        h = jersey_crop.shape[0]\n",
    "        w = jersey_crop.shape[1]\n",
    "        if 0 in (h,w):\n",
    "            jersey_crop = img[y1:y2, x1:x2, :]\n",
    "\n",
    "        h = jersey_crop.shape[0]\n",
    "        w = jersey_crop.shape[1]\n",
    "        if 0 in (h,w):\n",
    "            continue\n",
    "\n",
    "        output.append(jersey_crop)\n",
    "\n",
    "    return jersey_crop"
   ]
  },
  {
   "cell_type": "code",
   "execution_count": 6,
   "metadata": {},
   "outputs": [
    {
     "name": "stdout",
     "output_type": "stream",
     "text": [
      "4.86 µs ± 17.9 ns per loop (mean ± std. dev. of 7 runs, 100000 loops each)\n"
     ]
    }
   ],
   "source": [
    "%timeit crop_images(all_results, inp_data, offset)"
   ]
  },
  {
   "cell_type": "code",
   "execution_count": 13,
   "metadata": {},
   "outputs": [],
   "source": [
    "ll = [[[1], [2]], [[0], [3]]]\n",
    "res = []\n",
    "for l1, l2 in zip(ll[0], ll[1]):\n",
    "    res.append(''.join([str(x) for x in [l1[0], l2[0]] if x != 10]))"
   ]
  },
  {
   "cell_type": "code",
   "execution_count": 18,
   "metadata": {},
   "outputs": [
    {
     "data": {
      "text/plain": [
       "[1, 2, None, 4, 6, None, 8, None]"
      ]
     },
     "execution_count": 18,
     "metadata": {},
     "output_type": "execute_result"
    }
   ],
   "source": [
    "xx = [1,2,4,6,8]\n",
    "idx = [2,4,5]\n",
    "idx = sorted(idx,reverse=True)\n",
    "for i in idx:\n",
    "    xx.insert(i, None)\n",
    "xx"
   ]
  },
  {
   "cell_type": "code",
   "execution_count": 19,
   "metadata": {},
   "outputs": [],
   "source": [
    "from torch2trt import torch2trt\n"
   ]
  },
  {
   "cell_type": "code",
   "execution_count": null,
   "metadata": {},
   "outputs": [],
   "source": [
    "torch2trt()"
   ]
  }
 ],
 "metadata": {
  "kernelspec": {
   "display_name": "Python 3",
   "language": "python",
   "name": "python3"
  },
  "language_info": {
   "codemirror_mode": {
    "name": "ipython",
    "version": 3
   },
   "file_extension": ".py",
   "mimetype": "text/x-python",
   "name": "python",
   "nbconvert_exporter": "python",
   "pygments_lexer": "ipython3",
   "version": "3.7.8"
  }
 },
 "nbformat": 4,
 "nbformat_minor": 4
}
