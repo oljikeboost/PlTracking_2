{
 "cells": [
  {
   "cell_type": "code",
   "execution_count": 1,
   "metadata": {},
   "outputs": [],
   "source": [
    "import json\n",
    "import mmcv\n",
    "import glob\n",
    "import numpy as np\n",
    "from IPython.display import Video"
   ]
  },
  {
   "cell_type": "code",
   "execution_count": 22,
   "metadata": {},
   "outputs": [],
   "source": [
    "### Path to OCR of the video\n",
    "data = open('/home/ubuntu/oljike/data/demo_vids/ocr/3_ocr.json_ocr_raw.json')\n",
    "data = json.load(data)"
   ]
  },
  {
   "cell_type": "code",
   "execution_count": 31,
   "metadata": {
    "code_folding": []
   },
   "outputs": [
    {
     "name": "stdout",
     "output_type": "stream",
     "text": [
      "1715 0 1715\n",
      "549 0 549\n",
      "419 0 419\n",
      "1060 0 1135\n",
      "980 0 1046\n",
      "1005 0 1005\n",
      "1246 0 1246\n",
      "713 0 723\n",
      "677 0 677\n",
      "1631 0 1631\n",
      "1095 0 1095\n",
      "956 0 1036\n",
      "1161 0 1161\n",
      "898 0 898\n",
      "1126 0 1126\n",
      "1335 0 1335\n",
      "531 0 531\n",
      "988 0 998\n",
      "945 0 945\n",
      "1039 0 1039\n"
     ]
    }
   ],
   "source": [
    "all_jsons = glob.glob('/home/ubuntu/oljike/data/demo_vids/ocr/*_ocr.json')\n",
    "\n",
    "for js in all_jsons:\n",
    "    data = open(js)\n",
    "    data = json.load(data)\n",
    "    \n",
    "    score = 0\n",
    "    game = 0\n",
    "    for i in range(len(data['results'])):\n",
    "        if data['results'][str(i)]['score_bug_present']:\n",
    "            score += 1\n",
    "        if data['results'][str(i)]['game_clock_running']:\n",
    "            game += 1\n",
    "    print(score, game, len(data['results']))"
   ]
  },
  {
   "cell_type": "code",
   "execution_count": 39,
   "metadata": {},
   "outputs": [
    {
     "data": {
      "text/plain": [
       "60.0"
      ]
     },
     "execution_count": 39,
     "metadata": {},
     "output_type": "execute_result"
    }
   ],
   "source": [
    "vid = mmcv.VideoReader('../../data/demo_vids/1.mp4')\n",
    "vid.fps"
   ]
  },
  {
   "cell_type": "code",
   "execution_count": 85,
   "metadata": {},
   "outputs": [
    {
     "data": {
      "text/plain": [
       "Counter({1: 7, 0: 1})"
      ]
     },
     "execution_count": 85,
     "metadata": {},
     "output_type": "execute_result"
    }
   ],
   "source": [
    "from collections import Counter\n",
    "import numpy as np\n",
    "\n",
    "aa = [[1,1,1,1], [0,1,1,1]]\n",
    "aa = np.array(aa).flatten().tolist()\n",
    "\n",
    "Counter(aa)"
   ]
  },
  {
   "cell_type": "code",
   "execution_count": 12,
   "metadata": {
    "scrolled": false
   },
   "outputs": [
    {
     "data": {
      "text/html": [
       "<video src=\"demos/13.mp4\" controls  width=\"640\"  height=\"480\">\n",
       "      Your browser does not support the <code>video</code> element.\n",
       "    </video>"
      ],
      "text/plain": [
       "<IPython.core.display.Video object>"
      ]
     },
     "execution_count": 12,
     "metadata": {},
     "output_type": "execute_result"
    }
   ],
   "source": [
    "Video('demos/13.mp4', width=640, height=480)"
   ]
  },
  {
   "cell_type": "code",
   "execution_count": 33,
   "metadata": {},
   "outputs": [],
   "source": [
    "!sudo rm -rf ./demos/frame/"
   ]
  },
  {
   "cell_type": "code",
   "execution_count": 55,
   "metadata": {},
   "outputs": [],
   "source": [
    "js = {}\n",
    "js['1'] = [['lol',1,2,3], ['lol',1,2,3]]\n",
    "\n",
    "with open('lol.json', 'w') as f:\n",
    "    json.dump(js, f)"
   ]
  },
  {
   "cell_type": "code",
   "execution_count": 86,
   "metadata": {},
   "outputs": [],
   "source": [
    "with open('demos/1.json', 'r') as f:\n",
    "    data = json.load(f)"
   ]
  }
 ],
 "metadata": {
  "kernelspec": {
   "display_name": "Python 3",
   "language": "python",
   "name": "python3"
  },
  "language_info": {
   "codemirror_mode": {
    "name": "ipython",
    "version": 3
   },
   "file_extension": ".py",
   "mimetype": "text/x-python",
   "name": "python",
   "nbconvert_exporter": "python",
   "pygments_lexer": "ipython3",
   "version": "3.7.8"
  }
 },
 "nbformat": 4,
 "nbformat_minor": 4
}
