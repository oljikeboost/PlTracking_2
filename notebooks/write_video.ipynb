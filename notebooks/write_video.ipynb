{
 "cells": [
  {
   "cell_type": "code",
   "execution_count": 1,
   "metadata": {
    "code_folding": []
   },
   "outputs": [],
   "source": [
    "import src._init_paths\n",
    "import src.lib.datasets.dataset.jde as datasets\n",
    "import pandas as pd\n",
    "import json\n",
    "import matplotlib.pyplot as plt\n",
    "import mmcv\n",
    "import cv2\n",
    "from collections import Counter\n",
    "import numpy as np\n",
    "import lap\n",
    "from tqdm.notebook import tqdm\n",
    "import matplotlib.pyplot as plt\n",
    "\n",
    "ALLOWED = [list(range(0,6)), list(range(10, 16)),\n",
    "     list(range(20, 26)),list(range(30, 36)),\n",
    "     list(range(40, 46)),list(range(50, 56)),]\n",
    "\n",
    "ALLOWED = list(np.array(ALLOWED).flatten())\n",
    "ALLOWED = [str(x) for x in ALLOWED]\n",
    "ALLOWED.append('00')\n",
    "ALLOWED = set(ALLOWED)\n"
   ]
  },
  {
   "cell_type": "code",
   "execution_count": 80,
   "metadata": {},
   "outputs": [
    {
     "data": {
      "text/plain": [
       "['/home/ubuntu/oljike/data/demo_vids/2021_01_20_Colorado_at_Washington/2021_01_20_Colorado_at_Washington.mp4']"
      ]
     },
     "execution_count": 80,
     "metadata": {},
     "output_type": "execute_result"
    }
   ],
   "source": [
    "input_video.split(',')"
   ]
  },
  {
   "cell_type": "code",
   "execution_count": 79,
   "metadata": {},
   "outputs": [],
   "source": [
    "input_video = '/home/ubuntu/oljike/data/demo_vids/2021_01_20_Colorado_at_Washington/2021_01_20_Colorado_at_Washington.mp4'\n",
    "               \n",
    "output_video = './demos/custom_5vals_colors_all_30ep_data2_50ep/2021_01_20_Colorado_at_Washington_raw.mp4'"
   ]
  },
  {
   "cell_type": "code",
   "execution_count": 3,
   "metadata": {},
   "outputs": [
    {
     "name": "stdout",
     "output_type": "stream",
     "text": [
      "Lenth of the video: 172920 frames\n"
     ]
    }
   ],
   "source": [
    "ocr = json.load(open('/home/ubuntu/oljike/data/demo_vids/2021_01_20_Colorado_at_Washington/2021_01_20_Colorado_at_Washington_ocr.json'))\n",
    "results = json.load(open('./demos/custom_5vals_colors_all_30ep_data2_50ep/2021_01_20_Colorado_at_Washington_raw.json'))\n",
    "dataloader = datasets.LoadVideo(input_video, (1088, 608))\n",
    "\n",
    "valid_frames = set()\n",
    "for i in range(len(dataloader)):\n",
    "    curr_data = ocr['results'][str(i)]\n",
    "    if curr_data['score_bug_present'] and curr_data['game_clock_running']:\n",
    "        valid_frames.add(i)     "
   ]
  },
  {
   "cell_type": "code",
   "execution_count": 38,
   "metadata": {
    "code_folding": [
     0
    ]
   },
   "outputs": [],
   "source": [
    "def get_results(dataloader, results):\n",
    "    \n",
    "    all_ids = []\n",
    "    for i in range(len(dataloader)):\n",
    "        if str(i) not in results:\n",
    "            all_ids.append([])\n",
    "        else:\n",
    "            curr_hist = []\n",
    "            for x in results[str(i)]:\n",
    "                line = x.split(',')\n",
    "                curr_hist.append(line[0])\n",
    "            all_ids.append(curr_hist)\n",
    "            \n",
    "    tlwhs = []\n",
    "    for i in range(len(dataloader)):\n",
    "        if str(i) not in results:\n",
    "            tlwhs.append([])\n",
    "        else:\n",
    "            curr_hist = []\n",
    "            for x in results[str(i)]:\n",
    "                line = x.split(',')\n",
    "                curr_hist.append(line[1:5])\n",
    "            tlwhs.append(curr_hist) \n",
    "            \n",
    "            \n",
    "    all_hists = []\n",
    "    for i in range(len(dataloader)):\n",
    "        if str(i) not in results:\n",
    "            all_hists.append([])\n",
    "        else:\n",
    "            curr_hist = []\n",
    "            for x in results[str(i)]:\n",
    "                line = x.split(',')\n",
    "                curr_hist.append(line[-2])\n",
    "            all_hists.append(curr_hist)\n",
    "            \n",
    "    all_jerseys = []\n",
    "    for i in range(len(dataloader)):\n",
    "        if str(i) not in results:\n",
    "            all_jerseys.append([])\n",
    "        else:\n",
    "            curr_jer = []\n",
    "            for x in results[str(i)]:\n",
    "                line = x.split(',')\n",
    "                curr_jer.append(line[-1])\n",
    "\n",
    "            all_jerseys.append(curr_jer)\n",
    "            \n",
    "    return all_ids, tlwhs, all_hists, all_jerseys\n",
    "\n",
    "all_ids, tlwhs, all_hists, all_jerseys = get_results(dataloader, results)"
   ]
  },
  {
   "cell_type": "code",
   "execution_count": 62,
   "metadata": {
    "code_folding": []
   },
   "outputs": [
    {
     "name": "stdout",
     "output_type": "stream",
     "text": [
      "55\n",
      "Counter({'None': 68, '5': 3, '25': 2, '24': 1, '4': 1, '21': 1, '1': 1}) Counter({'1': 10, '2': 9, '11': 8, '5': 7, 'None': 7, '21': 5, '10': 5, '0': 3, '4': 3, '55': 2, '13': 2, '25': 1, '3': 1, '41': 1, '12': 1, '15': 1})\n"
     ]
    }
   ],
   "source": [
    "def post_proc(all_ids, all_hists):\n",
    "    \n",
    "    from collections import Counter\n",
    "    id_to_cls_list = {}\n",
    "    for en, track_ids in enumerate(all_ids):\n",
    "\n",
    "        for track_id, cls in zip(track_ids, all_hists[en]):\n",
    "            if track_id in id_to_cls_list:\n",
    "                id_to_cls_list[track_id].append(cls)\n",
    "            else:\n",
    "                id_to_cls_list[track_id] = [cls]\n",
    "\n",
    "    most_commons = []\n",
    "    sec_cmns = []\n",
    "    len_tr = []\n",
    "    id_to_cls_val = {}\n",
    "    for track_id, cls_lst in id_to_cls_list.items():\n",
    "        cls_lst = np.array(cls_lst).flatten().tolist()\n",
    "        cnt = Counter(cls_lst)\n",
    "        mst_cmn = cnt.most_common()\n",
    "        cmn_1st = mst_cmn[0][0]\n",
    "        if track_id=='3': \n",
    "            global xxx, cnt_xxx\n",
    "            xxx = cls_lst\n",
    "            cnt_xxx = mst_cmn\n",
    "#             print('scnd ', cls_lst, mst_cmn)\n",
    "        \n",
    "        \n",
    "        most_commons.append(cmn_1st)\n",
    "        len_tr.append(len(cls_lst))\n",
    "        if len(mst_cmn)>1:\n",
    "            sec_cmns.append(mst_cmn[1][0])\n",
    "        \n",
    "        \n",
    "        if cmn_1st is None or cmn_1st=='None':\n",
    "#             print('1st NONE')\n",
    "            if len(mst_cmn)>1:\n",
    "                cmn_2nd = mst_cmn[1]\n",
    "#                 if cmn_2nd[1]>int(0.05*len(cls_lst)) and str(cmn_2nd[0]) in ALLOWED:\n",
    "                if str(cmn_2nd[0]) in ALLOWED:\n",
    "#                     print(\"ALL \", cmn_2nd[0])\n",
    "                    id_to_cls_val[track_id] = str(cmn_2nd[0])\n",
    "                else:\n",
    "#                     print(\"NA\")\n",
    "                    id_to_cls_val[track_id] = 'None'\n",
    "            else:\n",
    "                id_to_cls_val[track_id] = 'None'\n",
    "        else:\n",
    "            if str(cmn_1st) not in ALLOWED:\n",
    "#                 print(\"NA2 \", type(cmn_1st), cmn_1st)\n",
    "                id_to_cls_val[track_id] = 'None'\n",
    "            else:\n",
    "#                 print(\"ALL2 \", cmn_1st)\n",
    "                id_to_cls_val[track_id] = str(cmn_1st)\n",
    "    \n",
    "    print(id_to_cls_val['3'])\n",
    "    output = []\n",
    "    for en, track_ids in enumerate(all_ids):\n",
    "        curr_output = []\n",
    "        for j in range(len(track_ids)):\n",
    "            curr_output.append(id_to_cls_val[track_ids[j]])\n",
    "\n",
    "        output.append(curr_output)\n",
    "    \n",
    "    print(Counter(most_commons), Counter(sec_cmns))\n",
    "    return output\n",
    "\n",
    "all_jerseys_proc = post_proc(all_ids, all_jerseys)"
   ]
  },
  {
   "cell_type": "code",
   "execution_count": 70,
   "metadata": {},
   "outputs": [
    {
     "name": "stdout",
     "output_type": "stream",
     "text": [
      "('None', 551) 34.4159900062461\n",
      "('55', 333) 20.799500312304808\n",
      "('25', 285) 17.801374141161773\n",
      "('24', 157) 9.806371018113678\n",
      "('5', 91) 5.683947532792005\n",
      "('2', 41) 2.5608994378513428\n",
      "('35', 26) 1.6239850093691444\n",
      "('1', 22) 1.3741411617738912\n",
      "('4', 15) 0.9369144284821986\n",
      "('3', 14) 0.8744534665833853\n",
      "('0', 12) 0.749531542785759\n",
      "('15', 8) 0.49968769519050593\n",
      "('21', 6) 0.3747657713928795\n",
      "('11', 6) 0.3747657713928795\n",
      "('13', 5) 0.3123048094940662\n",
      "('45', 5) 0.3123048094940662\n",
      "('22', 4) 0.24984384759525297\n",
      "('10', 3) 0.18738288569643974\n",
      "('14', 3) 0.18738288569643974\n",
      "('30', 3) 0.18738288569643974\n",
      "('33', 3) 0.18738288569643974\n",
      "('20', 2) 0.12492192379762648\n",
      "('51', 2) 0.12492192379762648\n",
      "('34', 1) 0.06246096189881324\n",
      "('23', 1) 0.06246096189881324\n",
      "('00', 1) 0.06246096189881324\n",
      "('53', 1) 0.06246096189881324\n"
     ]
    }
   ],
   "source": [
    "for x in cnt_xxx:\n",
    "    print(x,(x[1] / len(xxx))*100)"
   ]
  },
  {
   "cell_type": "code",
   "execution_count": 46,
   "metadata": {
    "code_folding": [
     0
    ]
   },
   "outputs": [],
   "source": [
    "def get_color_team(cls):\n",
    "    if cls=='0.0':\n",
    "        return (255,0,0)\n",
    "    elif cls=='1.0':\n",
    "        return (0,255,0) \n",
    "def write_vid(tlwhs, all_ids, all_hists, all_jerseys, output_video, valid_frames):\n",
    "\n",
    "    dataloader.re_init()\n",
    "    valid = 0\n",
    "    frame_id = 0\n",
    "\n",
    "    ### Write to video\n",
    "    img_h, img_w = (1080, 1920)\n",
    "    text_scale = max(1, 1920 / 1600.)\n",
    "    out = cv2.VideoWriter(output_video, cv2.VideoWriter_fourcc(*'MP4V'), dataloader.frame_rate, (img_w, img_h))\n",
    "\n",
    "    jersey = None\n",
    "    ball = None\n",
    "    for i, (path, img, img0) in enumerate(tqdm(dataloader)):\n",
    "        if i<800: continue\n",
    "        if valid >= len(results): break\n",
    "        curr_data = ocr['results'][str(i)]\n",
    "\n",
    "        if curr_data['score_bug_present'] and curr_data['game_clock_running']:\n",
    "\n",
    "            if i in valid_frames:\n",
    "                online_tlwhs = tlwhs[i]\n",
    "                cls = all_hists[i]\n",
    "                jersey = all_jerseys[i]\n",
    "                tr_id = all_ids[i]\n",
    "\n",
    "                for ii, tlwh in enumerate(online_tlwhs):\n",
    "                    x1, y1, w, h = [float(x) for x in tlwh]\n",
    "                    intbox = tuple(map(int, (x1*img_w, y1*img_h, (x1*img_w + w), (y1*img_h + h))))\n",
    "                    color = get_color_team(cls[ii])\n",
    "                    cv2.rectangle(img0, intbox[0:2], intbox[2:4], color=color, thickness=1)\n",
    "\n",
    "                    if jersey:\n",
    "                        jersey_id = str(jersey[ii])\n",
    "                        cv2.putText(img0, jersey_id + '_' + str(tr_id[ii]), (intbox[0], intbox[1] + 30), cv2.FONT_HERSHEY_PLAIN, text_scale, (0, 0, 255),\n",
    "                                thickness=1)\n",
    "\n",
    "            valid += 1\n",
    "\n",
    "        out.write(img0)\n",
    "        frame_id += 1\n",
    "\n",
    "    out.release()    "
   ]
  },
  {
   "cell_type": "code",
   "execution_count": 13,
   "metadata": {},
   "outputs": [
    {
     "data": {
      "application/vnd.jupyter.widget-view+json": {
       "model_id": "7f3920df6a9242279f2de008bcb7115e",
       "version_major": 2,
       "version_minor": 0
      },
      "text/plain": [
       "HBox(children=(HTML(value=''), FloatProgress(value=0.0, max=172920.0), HTML(value='')))"
      ]
     },
     "metadata": {},
     "output_type": "display_data"
    },
    {
     "name": "stdout",
     "output_type": "stream",
     "text": [
      "\n"
     ]
    }
   ],
   "source": [
    "write_vid(tlwhs, all_ids, all_hists, all_jerseys, output_video, valid_frames)"
   ]
  },
  {
   "cell_type": "code",
   "execution_count": 47,
   "metadata": {},
   "outputs": [
    {
     "data": {
      "application/vnd.jupyter.widget-view+json": {
       "model_id": "27d31562ddb24862ba96eb36a3217f47",
       "version_major": 2,
       "version_minor": 0
      },
      "text/plain": [
       "HBox(children=(HTML(value=''), FloatProgress(value=0.0, max=172920.0), HTML(value='')))"
      ]
     },
     "metadata": {},
     "output_type": "display_data"
    },
    {
     "name": "stdout",
     "output_type": "stream",
     "text": [
      "\n"
     ]
    }
   ],
   "source": [
    "write_vid(tlwhs, all_ids, all_hists, all_jerseys_proc, output_video.replace('_raw', '_proc'), valid_frames)"
   ]
  },
  {
   "cell_type": "code",
   "execution_count": null,
   "metadata": {},
   "outputs": [],
   "source": []
  }
 ],
 "metadata": {
  "kernelspec": {
   "display_name": "Python 3",
   "language": "python",
   "name": "python3"
  },
  "language_info": {
   "codemirror_mode": {
    "name": "ipython",
    "version": 3
   },
   "file_extension": ".py",
   "mimetype": "text/x-python",
   "name": "python",
   "nbconvert_exporter": "python",
   "pygments_lexer": "ipython3",
   "version": "3.7.6"
  }
 },
 "nbformat": 4,
 "nbformat_minor": 4
}
