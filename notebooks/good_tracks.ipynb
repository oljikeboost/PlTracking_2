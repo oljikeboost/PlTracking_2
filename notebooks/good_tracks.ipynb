{
 "cells": [
  {
   "cell_type": "code",
   "execution_count": 67,
   "metadata": {},
   "outputs": [],
   "source": [
    "import cv2\n",
    "import json\n",
    "import glob\n",
    "import os\n",
    "import mmcv\n",
    "import numpy as np\n",
    "import matplotlib.pyplot as plt"
   ]
  },
  {
   "cell_type": "code",
   "execution_count": 14,
   "metadata": {},
   "outputs": [],
   "source": [
    "game_name = '2021_02_08_OklahomaState_at_Kansas'\n",
    "events_file = os.path.join('./demos/custom_5vals_colors_all_30ep_data2_50ep/', game_name, game_name + '_genius_events_annotation_processing.json')\n",
    "\n",
    "video_path = os.path.join('/home/ubuntu/oljike/data/demo_vids/', game_name, game_name + '.mp4')\n",
    "trails_path =  os.path.join('./demos/custom_5vals_colors_all_30ep_data2_50ep/', game_name, game_name + '_trails.json')"
   ]
  },
  {
   "cell_type": "code",
   "execution_count": 88,
   "metadata": {
    "code_folding": [
     1
    ]
   },
   "outputs": [],
   "source": [
    "    \n",
    "def get_result(events_file, trails_path, video_path):\n",
    "    events = json.load(open(events_file))\n",
    "    trails = json.load(open(trails_path))\n",
    "    video = mmcv.VideoReader(video_path)\n",
    "\n",
    "    for en, k in enumerate(trails):\n",
    "        if len(trails[k]['home'])>0:\n",
    "            team = 'home_team'\n",
    "        else:\n",
    "            team = 'away_team'\n",
    "\n",
    "        break\n",
    "\n",
    "    frames = []\n",
    "    shot_locs = {}\n",
    "    for ev in events['events']:\n",
    "        if 'made' in ev['event_type'] and ev['player_jersey']=='2' and ev['team']==team:\n",
    "            frames.append(ev['frame_num'])\n",
    "            shot_locs['frame_num'] = ev['shot_location']\n",
    "\n",
    "\n",
    "    def get_coords(js, frame):\n",
    "        x, y = [], []\n",
    "        bbox = {}\n",
    "        trail = {}\n",
    "        for en in range(frame-300, frame+100):\n",
    "            if str(en) not in js: continue\n",
    "\n",
    "            k = str(en)\n",
    "            if len(js[k]['home'])>0:\n",
    "                x.append(js[k]['home']['2']['trail'][0])\n",
    "                y.append(js[k]['home']['2']['trail'][1])\n",
    "                bbox[k] = js[k]['home']['2']['box']\n",
    "                trail[k] = js[k]['home']['2']['trail']\n",
    "            else:\n",
    "                x.append(js[k]['away']['2']['trail'][0])\n",
    "                y.append(js[k]['away']['2']['trail'][1])\n",
    "                bbox[k] = js[k]['away']['2']['box']\n",
    "                trail[k] = js[k]['away']['2']['trail']\n",
    "\n",
    "        return x, y, bbox,trail\n",
    "\n",
    "    good_tracks = 0\n",
    "    xs, ys = [], []\n",
    "    good_frames = []\n",
    "    good_bbox = []\n",
    "    good_trail = []\n",
    "    for en, frame in enumerate(frames):\n",
    "        x,y, bbox, trail = get_coords(trails, frame)\n",
    "\n",
    "        if len(x)>100:\n",
    "            good_tracks += 1\n",
    "            good_frames.append(frame)\n",
    "            xs.append(x)\n",
    "            ys.append(y)\n",
    "            good_bbox.append(bbox)\n",
    "            good_trail.append(trail)\n",
    "\n",
    "    print(good_tracks)\n",
    "\n",
    "\n",
    "    for idx in range(good_tracks):\n",
    "        if not os.path.exists('./demos/magazine/'+game_name):\n",
    "            os.makedirs('./demos/magazine/'+game_name)\n",
    "\n",
    "        out_dir = './demos/magazine/'+game_name\n",
    "        out_json = os.path.join(out_dir, str(idx)+ '_results.json')\n",
    "        out = cv2.VideoWriter(os.path.join(out_dir, str(idx) + '_results.mp4'), cv2.VideoWriter_fourcc(*'MP4V'), video.fps, (video.width, video.height))\n",
    "\n",
    "\n",
    "        result = {}\n",
    "        for i in range(good_frames[idx]-300, good_frames[idx]+100):\n",
    "            frame_rgb = video.get_frame(i)\n",
    "            if str(i) in good_bbox[idx]:\n",
    "                curr_bbox = good_bbox[idx][str(i)]\n",
    "                curr_bbox = [curr_bbox[0], curr_bbox[1], curr_bbox[0]+curr_bbox[2], curr_bbox[1]+curr_bbox[3]]\n",
    "                curr_bbox = np.array(curr_bbox).astype(int)\n",
    "\n",
    "                curr_trail = good_trail[idx][str(i)]\n",
    "                \n",
    "                if str(i) in shot_locs:\n",
    "                    result[str(i)] = {'box': curr_bbox.tolist(), 'trail': curr_trail, 'loc': shot_locs[str(i)]}\n",
    "                else:\n",
    "                    result[str(i)] = {'box': curr_bbox.tolist(), 'trail': curr_trail}\n",
    "                    \n",
    "                cv2.rectangle(frame_rgb, (curr_bbox[0], curr_bbox[1]), (curr_bbox[2], curr_bbox[3]), color=(255,0,0), thickness=1)\n",
    "\n",
    "            else: \n",
    "                result[str(i)] = {'box': [], 'trail': []}\n",
    "\n",
    "\n",
    "            out.write(frame_rgb)   \n",
    "        out.release()\n",
    "\n",
    "        with open(out_json, 'w') as f:\n",
    "            json.dump(result, f)"
   ]
  },
  {
   "cell_type": "code",
   "execution_count": 103,
   "metadata": {},
   "outputs": [
    {
     "name": "stdout",
     "output_type": "stream",
     "text": [
      "8\n",
      "6\n",
      "4\n",
      "10\n",
      "3\n",
      "0\n"
     ]
    }
   ],
   "source": [
    "all_games = glob.glob('/home/ubuntu/oljike/data/demo_vids/*')\n",
    "all_games = [x for x in all_games if os.path.isdir(x)] \n",
    "\n",
    "for game in all_games:\n",
    "    game_name = game.split('/')[-1]\n",
    "    events_file = os.path.join('./demos/custom_5vals_colors_all_30ep_data2_50ep/', game_name, game_name + '_genius_events_annotation_processing.json')\n",
    "\n",
    "    video_path = os.path.join('/home/ubuntu/oljike/data/demo_vids/', game_name, game_name + '.mp4')\n",
    "    trails_path =  os.path.join('./demos/custom_5vals_colors_all_30ep_data2_50ep/', game_name, game_name + '_trails.json')\n",
    "    \n",
    "    if not os.path.exists(events_file) or not os.path.exists(trails_path): continue\n",
    "        \n",
    "    if not os.path.exists(video_path):\n",
    "        video_path = os.path.join('/home/ubuntu/oljike/data/demo_vids/', game_name, game_name + '_orig.mp4')\n",
    "        \n",
    "    get_result(events_file, trails_path, video_path)\n"
   ]
  },
  {
   "cell_type": "code",
   "execution_count": 99,
   "metadata": {},
   "outputs": [
    {
     "data": {
      "text/plain": [
       "['/home/ubuntu/oljike/data/demo_vids/2021_03_11_OklahomaState_at_WestVirginia',\n",
       " '/home/ubuntu/oljike/data/demo_vids/2021_03_12_OklahomaState_at_Baylor',\n",
       " '/home/ubuntu/oljike/data/demo_vids/2021_03_13_OklahomaState_at_Texas',\n",
       " '/home/ubuntu/oljike/data/demo_vids/2021_01_20_Colorado_at_Washington',\n",
       " '/home/ubuntu/oljike/data/demo_vids/2021_02_08_OklahomaState_at_Kansas',\n",
       " '/home/ubuntu/oljike/data/demo_vids/2020_11_28_TexasSouthern_at_OklahomaState',\n",
       " '/home/ubuntu/oljike/data/demo_vids/2021_03_01_Oklahoma_at_OklahomaState',\n",
       " '/home/ubuntu/oljike/data/demo_vids/2021_01_04_WestVirginia_at_OklahomaState',\n",
       " '/home/ubuntu/oljike/data/demo_vids/2020_12_20_OklahomaState_at_Texas',\n",
       " '/home/ubuntu/oljike/data/demo_vids/2021_02_27_OklahomaState_at_Oklahoma',\n",
       " '/home/ubuntu/oljike/data/demo_vids/2020_12_05_Oakland_at_OklahomaState']"
      ]
     },
     "execution_count": 99,
     "metadata": {},
     "output_type": "execute_result"
    }
   ],
   "source": [
    "all_games"
   ]
  },
  {
   "cell_type": "code",
   "execution_count": 59,
   "metadata": {},
   "outputs": [
    {
     "data": {
      "text/plain": [
       "[<matplotlib.lines.Line2D at 0x7fb2b28d3750>]"
      ]
     },
     "execution_count": 59,
     "metadata": {},
     "output_type": "execute_result"
    },
    {
     "data": {
      "image/png": "[encoded data removed]",
      "text/plain": [
       "<Figure size 432x288 with 1 Axes>"
      ]
     },
     "metadata": {
      "needs_background": "light"
     },
     "output_type": "display_data"
    }
   ],
   "source": [
    "idx = 3\n",
    "plt.plot(xs[idx],ys[idx])"
   ]
  },
  {
   "cell_type": "markdown",
   "metadata": {},
   "source": [
    "### Make video"
   ]
  },
  {
   "cell_type": "code",
   "execution_count": 84,
   "metadata": {},
   "outputs": [],
   "source": []
  }
 ],
 "metadata": {
  "kernelspec": {
   "display_name": "Python 3",
   "language": "python",
   "name": "python3"
  },
  "language_info": {
   "codemirror_mode": {
    "name": "ipython",
    "version": 3
   },
   "file_extension": ".py",
   "mimetype": "text/x-python",
   "name": "python",
   "nbconvert_exporter": "python",
   "pygments_lexer": "ipython3",
   "version": "3.7.8"
  }
 },
 "nbformat": 4,
 "nbformat_minor": 4
}
